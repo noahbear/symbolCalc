{
 "cells": [
  {
   "cell_type": "code",
   "execution_count": 42,
   "metadata": {},
   "outputs": [
    {
     "name": "stdout",
     "output_type": "stream",
     "text": [
      "[1234]=[12]+[34]*{50},[12]=[1]+[2]/{2};[1]=10,[2]=20,[34]=50;[1234]\n"
     ]
    }
   ],
   "source": [
    "#arg = input()\n",
    "arg = '[1234]=[12]+[34]*{50},[12]=[1]+[2]/{2};[1]=10,[2]=20,[34]=50;[1234]'"
   ]
  },
  {
   "cell_type": "code",
   "execution_count": 43,
   "metadata": {},
   "outputs": [],
   "source": [
    "arg = str(arg)\n",
    "IDraw = arg.split(';')[-1]\n",
    "Xraw = arg.split(';')[-2]\n",
    "fRaw = arg.split(';')[0]\n",
    "\n",
    "Xlist = Xraw.split(',')\n",
    "flist = fRaw.split(',')\n",
    "\n",
    "X = {}\n",
    "for x in Xlist:\n",
    "    xkey = x.split('=')[0].strip()\n",
    "    xvalue = x.split('=')[1].strip()\n",
    "    X[xkey] = xvalue\n",
    "F = {}\n",
    "for f in flist:\n",
    "    ff = f.split('=')[0].strip()\n",
    "    fform = f.split('=')[1].strip()\n",
    "    fform = fform.replace('{','')\n",
    "    fform = fform.replace('}','')\n",
    "    F[ff] = fform"
   ]
  },
  {
   "cell_type": "code",
   "execution_count": 44,
   "metadata": {},
   "outputs": [
    {
     "name": "stdout",
     "output_type": "stream",
     "text": [
      "[1234] = 2520\n"
     ]
    }
   ],
   "source": [
    "while len(F):\n",
    "    for fkey in F.keys():\n",
    "        for xkey in X.keys():\n",
    "            F[fkey] = F[fkey].replace(xkey,X[xkey])\n",
    "        try:\n",
    "            #print(F[fkey])\n",
    "            X[fkey] = str(int(eval(F[fkey])))\n",
    "        except:\n",
    "            pass\n",
    "    for xkey in X.keys():\n",
    "        try:\n",
    "            F.pop(xkey)\n",
    "        except:\n",
    "            pass\n",
    "print(IDraw + ' = ' + X[IDraw])"
   ]
  },
  {
   "cell_type": "code",
   "execution_count": 49,
   "metadata": {},
   "outputs": [],
   "source": [
    "!rm sym"
   ]
  },
  {
   "cell_type": "code",
   "execution_count": null,
   "metadata": {
    "collapsed": true
   },
   "outputs": [],
   "source": []
  }
 ],
 "metadata": {
  "kernelspec": {
   "display_name": "Python 3",
   "language": "python",
   "name": "python3"
  },
  "language_info": {
   "codemirror_mode": {
    "name": "ipython",
    "version": 3
   },
   "file_extension": ".py",
   "mimetype": "text/x-python",
   "name": "python",
   "nbconvert_exporter": "python",
   "pygments_lexer": "ipython3",
   "version": "3.5.2"
  }
 },
 "nbformat": 4,
 "nbformat_minor": 2
}
